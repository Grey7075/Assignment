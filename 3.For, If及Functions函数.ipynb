{
 "cells": [
  {
   "cell_type": "code",
   "execution_count": 17,
   "id": "58780a61",
   "metadata": {},
   "outputs": [
    {
     "name": "stdout",
     "output_type": "stream",
     "text": [
      "number is even偶数\n"
     ]
    }
   ],
   "source": [
    "num=12      #n % 2 可以用来判断 n 是否被 2 整除，检测奇，偶数。\n",
    "\n",
    "if num%2==0: #% 是python 运算符 返回余数\n",
    "    print(\"number is even偶数\")\n",
    "else:\n",
    "    print(\"the number is odd奇数\")"
   ]
  },
  {
   "cell_type": "code",
   "execution_count": 34,
   "id": "55b7b139",
   "metadata": {},
   "outputs": [],
   "source": [
    "def 奇偶函数判断(num):\n",
    "    if num%2==0:\n",
    "        print(\"number is even偶数\")\n",
    "    else:\n",
    "        print(\"the number is odd奇数\")"
   ]
  },
  {
   "cell_type": "code",
   "execution_count": 39,
   "id": "aaa48d9b",
   "metadata": {},
   "outputs": [
    {
     "name": "stdout",
     "output_type": "stream",
     "text": [
      "the number is odd奇数\n"
     ]
    }
   ],
   "source": [
    "奇偶函数(9)"
   ]
  },
  {
   "cell_type": "code",
   "execution_count": 41,
   "id": "478aed9c",
   "metadata": {},
   "outputs": [],
   "source": [
    "#print vs return\n",
    "def hello_world():\n",
    "    print(\"Hello world!\")"
   ]
  },
  {
   "cell_type": "code",
   "execution_count": 43,
   "id": "a61d780d",
   "metadata": {},
   "outputs": [
    {
     "name": "stdout",
     "output_type": "stream",
     "text": [
      "Hello world!\n"
     ]
    }
   ],
   "source": [
    "hello_world()"
   ]
  },
  {
   "cell_type": "markdown",
   "id": "be99087c",
   "metadata": {},
   "source": [
    "## #使用return能将执行结果返回到含具体参数的函数中，可以赋值给其它参数，使用print则没有返回值，运算结束后不能调用函数。"
   ]
  },
  {
   "cell_type": "code",
   "execution_count": 44,
   "id": "5629c743",
   "metadata": {},
   "outputs": [
    {
     "name": "stdout",
     "output_type": "stream",
     "text": [
      "Hello world!\n"
     ]
    }
   ],
   "source": [
    "abc=hello_world()"
   ]
  },
  {
   "cell_type": "code",
   "execution_count": 45,
   "id": "90ea9bcd",
   "metadata": {},
   "outputs": [
    {
     "name": "stdout",
     "output_type": "stream",
     "text": [
      "None\n"
     ]
    }
   ],
   "source": [
    "print(abc)"
   ]
  },
  {
   "cell_type": "code",
   "execution_count": 46,
   "id": "9b53d1a4",
   "metadata": {},
   "outputs": [],
   "source": [
    "def Hello_world():\n",
    "    return \"Hello world!!\""
   ]
  },
  {
   "cell_type": "code",
   "execution_count": 47,
   "id": "9aa3a216",
   "metadata": {},
   "outputs": [],
   "source": [
    "abc=Hello_world()"
   ]
  },
  {
   "cell_type": "code",
   "execution_count": 48,
   "id": "37837e1b",
   "metadata": {},
   "outputs": [
    {
     "name": "stdout",
     "output_type": "stream",
     "text": [
      "Hello world!!\n"
     ]
    }
   ],
   "source": [
    "print(abc)"
   ]
  },
  {
   "cell_type": "code",
   "execution_count": 49,
   "id": "52d1f6ee",
   "metadata": {},
   "outputs": [
    {
     "data": {
      "text/plain": [
       "'Hello world!!'"
      ]
     },
     "execution_count": 49,
     "metadata": {},
     "output_type": "execute_result"
    }
   ],
   "source": [
    "abc"
   ]
  },
  {
   "cell_type": "code",
   "execution_count": 50,
   "id": "cc828113",
   "metadata": {},
   "outputs": [],
   "source": [
    "def multiple_num(num1,num2):\n",
    "    return num1*num2"
   ]
  },
  {
   "cell_type": "code",
   "execution_count": 52,
   "id": "167621f1",
   "metadata": {},
   "outputs": [],
   "source": [
    "abc=multiple_num(10,15)"
   ]
  },
  {
   "cell_type": "code",
   "execution_count": 53,
   "id": "a03fc823",
   "metadata": {},
   "outputs": [
    {
     "name": "stdout",
     "output_type": "stream",
     "text": [
      "150\n"
     ]
    }
   ],
   "source": [
    "print(abc)"
   ]
  },
  {
   "cell_type": "code",
   "execution_count": 64,
   "id": "0d486e37",
   "metadata": {},
   "outputs": [],
   "source": [
    "def hello(name,age):\n",
    "    print(\"my name is {} and age is {}\".format(name,age))"
   ]
  },
  {
   "cell_type": "code",
   "execution_count": 65,
   "id": "f944cc21",
   "metadata": {},
   "outputs": [
    {
     "name": "stdout",
     "output_type": "stream",
     "text": [
      "my name is kaier and age is 27\n"
     ]
    }
   ],
   "source": [
    "hello('kaier',27)"
   ]
  },
  {
   "cell_type": "code",
   "execution_count": 66,
   "id": "0a4f4118",
   "metadata": {},
   "outputs": [],
   "source": [
    "def Hello(*args,**kargs):#位置参数和关键词参数\n",
    "    print(args)\n",
    "    print(kargs)"
   ]
  },
  {
   "cell_type": "code",
   "execution_count": 67,
   "id": "dc060089",
   "metadata": {},
   "outputs": [
    {
     "name": "stdout",
     "output_type": "stream",
     "text": [
      "('Bob', 'Chen')\n",
      "{'age': 20, 'birthdate': 2000}\n"
     ]
    }
   ],
   "source": [
    "Hello(\"Bob\",\"Chen\",age=20,birthdate=2000)"
   ]
  },
  {
   "cell_type": "code",
   "execution_count": 68,
   "id": "401ba38b",
   "metadata": {},
   "outputs": [],
   "source": [
    "firstarg=[\"Bob\",\"Chen\"]\n",
    "secondkarg={'age':20,'birthdate':2000}"
   ]
  },
  {
   "cell_type": "code",
   "execution_count": 69,
   "id": "8229b84d",
   "metadata": {},
   "outputs": [
    {
     "name": "stdout",
     "output_type": "stream",
     "text": [
      "(['Bob', 'Chen'], {'age': 20, 'birthdate': 2000})\n",
      "{}\n"
     ]
    }
   ],
   "source": [
    "Hello(firstarg,secondkarg)"
   ]
  },
  {
   "cell_type": "code",
   "execution_count": 72,
   "id": "ad4177cd",
   "metadata": {},
   "outputs": [
    {
     "name": "stdout",
     "output_type": "stream",
     "text": [
      "('Bob', 'Chen')\n",
      "{'age': 20, 'birthdate': 2000}\n"
     ]
    }
   ],
   "source": [
    "Hello(*firstarg,**secondkarg)"
   ]
  },
  {
   "cell_type": "code",
   "execution_count": 76,
   "id": "9f63d0ed",
   "metadata": {},
   "outputs": [
    {
     "name": "stdout",
     "output_type": "stream",
     "text": [
      "30 25\n"
     ]
    }
   ],
   "source": [
    "## If conditions and for loops 条件和循环\n",
    "\n",
    "lst=[1,2,3,4,5,6,7,8,9,10]\n",
    "\n",
    "even_sum=0\n",
    "odd_sum=0\n",
    "for i in lst:\n",
    "    if i%2==0:\n",
    "        even_sum=even_sum+i\n",
    "    else:\n",
    "        odd_sum=odd_sum+i\n",
    "print(even_sum,odd_sum)\n",
    "        "
   ]
  },
  {
   "cell_type": "code",
   "execution_count": 79,
   "id": "6b339fe2",
   "metadata": {},
   "outputs": [],
   "source": [
    "def evenodd_sum(lst):\n",
    "    even_sum=0\n",
    "    odd_sum=0\n",
    "    for i in lst:\n",
    "        if i%2==0:\n",
    "            even_sum=even_sum+i\n",
    "        else:\n",
    "            odd_sum=odd_sum+i\n",
    "    return even_sum, odd_sum"
   ]
  },
  {
   "cell_type": "code",
   "execution_count": 80,
   "id": "9fef37d8",
   "metadata": {},
   "outputs": [
    {
     "data": {
      "text/plain": [
       "(30, 25)"
      ]
     },
     "execution_count": 80,
     "metadata": {},
     "output_type": "execute_result"
    }
   ],
   "source": [
    "evenodd_sum(lst)"
   ]
  },
  {
   "cell_type": "code",
   "execution_count": 81,
   "id": "5130c683",
   "metadata": {},
   "outputs": [],
   "source": [
    "def add(num1,num2):\n",
    "    return num1+num2"
   ]
  },
  {
   "cell_type": "code",
   "execution_count": 82,
   "id": "626e4842",
   "metadata": {},
   "outputs": [
    {
     "data": {
      "text/plain": [
       "6"
      ]
     },
     "execution_count": 82,
     "metadata": {},
     "output_type": "execute_result"
    }
   ],
   "source": [
    "add(2,4)"
   ]
  },
  {
   "cell_type": "code",
   "execution_count": 87,
   "id": "194299cc",
   "metadata": {},
   "outputs": [],
   "source": [
    "def add_list(lst):\n",
    "    sum1 =0\n",
    "    for i in lst:\n",
    "        print(i)\n",
    "        sum1=sum1+int(i)\n",
    "    return sum1"
   ]
  },
  {
   "cell_type": "code",
   "execution_count": 88,
   "id": "28ac8646",
   "metadata": {},
   "outputs": [
    {
     "name": "stdout",
     "output_type": "stream",
     "text": [
      "1\n",
      "2\n",
      "3\n",
      "4\n",
      "5\n",
      "6\n"
     ]
    },
    {
     "data": {
      "text/plain": [
       "21"
      ]
     },
     "execution_count": 88,
     "metadata": {},
     "output_type": "execute_result"
    }
   ],
   "source": [
    "add_list([1,2,3,4,5,6])"
   ]
  },
  {
   "cell_type": "code",
   "execution_count": 90,
   "id": "5fa5d41c",
   "metadata": {},
   "outputs": [
    {
     "name": "stdout",
     "output_type": "stream",
     "text": [
      "Enter the list  123456789\n"
     ]
    }
   ],
   "source": [
    "input_num=list(input(\"Enter the list  \"))"
   ]
  },
  {
   "cell_type": "code",
   "execution_count": 91,
   "id": "30365c76",
   "metadata": {},
   "outputs": [
    {
     "name": "stdout",
     "output_type": "stream",
     "text": [
      "enter the list123456\n"
     ]
    },
    {
     "data": {
      "text/plain": [
       "['1', '2', '3', '4', '5', '6']"
      ]
     },
     "execution_count": 91,
     "metadata": {},
     "output_type": "execute_result"
    }
   ],
   "source": [
    "list(input(\"enter the list\"))#python中的list是列表，是一种数据类型"
   ]
  },
  {
   "cell_type": "code",
   "execution_count": 92,
   "id": "dd271851",
   "metadata": {},
   "outputs": [
    {
     "name": "stdout",
     "output_type": "stream",
     "text": [
      "enter the list123\n"
     ]
    },
    {
     "data": {
      "text/plain": [
       "'123'"
      ]
     },
     "execution_count": 92,
     "metadata": {},
     "output_type": "execute_result"
    }
   ],
   "source": [
    "input(\"enter the list\")"
   ]
  },
  {
   "cell_type": "code",
   "execution_count": 93,
   "id": "f55a47c7",
   "metadata": {},
   "outputs": [
    {
     "data": {
      "text/plain": [
       "['1', '2', '3', '4', '5', '6', '7', '8', '9']"
      ]
     },
     "execution_count": 93,
     "metadata": {},
     "output_type": "execute_result"
    }
   ],
   "source": [
    "input_num"
   ]
  },
  {
   "cell_type": "code",
   "execution_count": 94,
   "id": "3296bf94",
   "metadata": {},
   "outputs": [
    {
     "name": "stdout",
     "output_type": "stream",
     "text": [
      "1\n",
      "2\n",
      "3\n",
      "4\n",
      "5\n",
      "6\n",
      "7\n",
      "8\n",
      "9\n"
     ]
    },
    {
     "data": {
      "text/plain": [
       "45"
      ]
     },
     "execution_count": 94,
     "metadata": {},
     "output_type": "execute_result"
    }
   ],
   "source": [
    "add_list(input_num)"
   ]
  },
  {
   "cell_type": "code",
   "execution_count": 1,
   "id": "e16e8dd3",
   "metadata": {},
   "outputs": [
    {
     "data": {
      "text/plain": [
       "<function __main__.<lambda>(num1, num2)>"
      ]
     },
     "execution_count": 1,
     "metadata": {},
     "output_type": "execute_result"
    }
   ],
   "source": [
    "lambda num1,num2:num1+num2"
   ]
  },
  {
   "cell_type": "code",
   "execution_count": 2,
   "id": "2481c723",
   "metadata": {},
   "outputs": [],
   "source": [
    "adplus=lambda num1,num2:num1+num2"
   ]
  },
  {
   "cell_type": "code",
   "execution_count": 3,
   "id": "d125ba7f",
   "metadata": {},
   "outputs": [
    {
     "data": {
      "text/plain": [
       "3"
      ]
     },
     "execution_count": 3,
     "metadata": {},
     "output_type": "execute_result"
    }
   ],
   "source": [
    "adplus(1,2)"
   ]
  },
  {
   "cell_type": "code",
   "execution_count": 4,
   "id": "69124bff",
   "metadata": {},
   "outputs": [],
   "source": [
    "def even(num):\n",
    "    if num%2==0:\n",
    "        return True\n",
    "    else:\n",
    "        return False"
   ]
  },
  {
   "cell_type": "code",
   "execution_count": 5,
   "id": "1ec54202",
   "metadata": {},
   "outputs": [
    {
     "data": {
      "text/plain": [
       "True"
      ]
     },
     "execution_count": 5,
     "metadata": {},
     "output_type": "execute_result"
    }
   ],
   "source": [
    "even(2)"
   ]
  },
  {
   "cell_type": "code",
   "execution_count": 6,
   "id": "fad3f0c9",
   "metadata": {},
   "outputs": [],
   "source": [
    "even1=lambda num:num%2==0"
   ]
  },
  {
   "cell_type": "code",
   "execution_count": 7,
   "id": "8039c299",
   "metadata": {},
   "outputs": [
    {
     "data": {
      "text/plain": [
       "False"
      ]
     },
     "execution_count": 7,
     "metadata": {},
     "output_type": "execute_result"
    }
   ],
   "source": [
    "even1(3)"
   ]
  },
  {
   "cell_type": "code",
   "execution_count": 8,
   "id": "9c3f21e4",
   "metadata": {},
   "outputs": [],
   "source": [
    "def add(a,b,c):\n",
    "    return a+b+c"
   ]
  },
  {
   "cell_type": "code",
   "execution_count": 9,
   "id": "46135d6a",
   "metadata": {},
   "outputs": [
    {
     "data": {
      "text/plain": [
       "24"
      ]
     },
     "execution_count": 9,
     "metadata": {},
     "output_type": "execute_result"
    }
   ],
   "source": [
    "add(7,8,9)"
   ]
  },
  {
   "cell_type": "code",
   "execution_count": 10,
   "id": "34993466",
   "metadata": {},
   "outputs": [],
   "source": [
    "add1=lambda a,b,c:a+b+c"
   ]
  },
  {
   "cell_type": "code",
   "execution_count": 11,
   "id": "dd74e831",
   "metadata": {},
   "outputs": [
    {
     "data": {
      "text/plain": [
       "6"
      ]
     },
     "execution_count": 11,
     "metadata": {},
     "output_type": "execute_result"
    }
   ],
   "source": [
    "add1(1,2,3)"
   ]
  },
  {
   "cell_type": "code",
   "execution_count": 12,
   "id": "fc604509",
   "metadata": {},
   "outputs": [],
   "source": [
    "def even_odd(num):\n",
    "    if num%2==0:\n",
    "        print(\"the number {} is even\".format(num))\n",
    "    else:\n",
    "        print(\"the number {} is odd\".format(num))"
   ]
  },
  {
   "cell_type": "code",
   "execution_count": 13,
   "id": "09c4699c",
   "metadata": {},
   "outputs": [
    {
     "name": "stdout",
     "output_type": "stream",
     "text": [
      "the number 4 is even\n"
     ]
    }
   ],
   "source": [
    "even_odd(4)"
   ]
  },
  {
   "cell_type": "code",
   "execution_count": 15,
   "id": "5e067d08",
   "metadata": {},
   "outputs": [],
   "source": [
    "lst=[1,2,3,4,5,6,23,25,78]"
   ]
  },
  {
   "cell_type": "code",
   "execution_count": 16,
   "id": "fa94fdc0",
   "metadata": {},
   "outputs": [
    {
     "name": "stdout",
     "output_type": "stream",
     "text": [
      "the number 1 is odd\n",
      "the number 2 is even\n",
      "the number 3 is odd\n",
      "the number 4 is even\n",
      "the number 5 is odd\n",
      "the number 6 is even\n",
      "the number 23 is odd\n",
      "the number 25 is odd\n",
      "the number 78 is even\n"
     ]
    }
   ],
   "source": [
    "for i in lst:\n",
    "    if i%2==0:\n",
    "        print(\"the number {} is even\".format(i))\n",
    "    else:\n",
    "        print(\"the number {} is odd\".format(i))"
   ]
  },
  {
   "cell_type": "code",
   "execution_count": 20,
   "id": "766da759",
   "metadata": {},
   "outputs": [
    {
     "name": "stdout",
     "output_type": "stream",
     "text": [
      "the number 1 is odd\n",
      "the number 2 is even\n",
      "the number 3 is odd\n",
      "the number 4 is even\n",
      "the number 5 is odd\n",
      "the number 6 is even\n",
      "the number 23 is odd\n",
      "the number 25 is odd\n",
      "the number 78 is even\n"
     ]
    }
   ],
   "source": [
    "for i in lst:even_odd(i)\n"
   ]
  },
  {
   "cell_type": "code",
   "execution_count": 21,
   "id": "9870b3e4",
   "metadata": {},
   "outputs": [
    {
     "data": {
      "text/plain": [
       "<map at 0x221c08bb700>"
      ]
     },
     "execution_count": 21,
     "metadata": {},
     "output_type": "execute_result"
    }
   ],
   "source": [
    "map(even_odd,lst)"
   ]
  },
  {
   "cell_type": "code",
   "execution_count": 25,
   "id": "8ab9901f",
   "metadata": {},
   "outputs": [
    {
     "name": "stdout",
     "output_type": "stream",
     "text": [
      "the number 1 is odd\n",
      "the number 2 is even\n",
      "the number 3 is odd\n",
      "the number 4 is even\n",
      "the number 5 is odd\n",
      "the number 6 is even\n",
      "the number 23 is odd\n",
      "the number 25 is odd\n",
      "the number 78 is even\n"
     ]
    },
    {
     "data": {
      "text/plain": [
       "[None, None, None, None, None, None, None, None, None]"
      ]
     },
     "execution_count": 25,
     "metadata": {},
     "output_type": "execute_result"
    }
   ],
   "source": [
    "list(map(even_odd,lst))"
   ]
  },
  {
   "cell_type": "code",
   "execution_count": 28,
   "id": "5cf333e3",
   "metadata": {},
   "outputs": [
    {
     "name": "stdout",
     "output_type": "stream",
     "text": [
      "[2, 12, 30]\n"
     ]
    }
   ],
   "source": [
    "#对多个迭代对象使用map()/map(function, iterable, ...)\n",
    "#map()是一个 Python 内建函数，它允许你不需要使用循环就可以编写简洁的代码。\n",
    "def multiply(a, b):\n",
    "    return a * b\n",
    " \n",
    "a = [1, 4, 6]\n",
    "b = [2, 3, 5]\n",
    " \n",
    "result = map(multiply, a, b)\n",
    " \n",
    "print(list(result))"
   ]
  },
  {
   "cell_type": "code",
   "execution_count": 29,
   "id": "aa798e4e",
   "metadata": {},
   "outputs": [
    {
     "name": "stdout",
     "output_type": "stream",
     "text": [
      "[2, 12, 30]\n"
     ]
    }
   ],
   "source": [
    "a = [1, 4, 6]\n",
    "b = [2, 3, 5, 7, 8]\n",
    " \n",
    "result = map(lambda x, y: x*y, a, b)\n",
    " \n",
    "print(list(result))"
   ]
  },
  {
   "cell_type": "code",
   "execution_count": 30,
   "id": "3029b1de",
   "metadata": {},
   "outputs": [
    {
     "ename": "SyntaxError",
     "evalue": "invalid syntax (3008639315.py, line 1)",
     "output_type": "error",
     "traceback": [
      "\u001b[1;36m  File \u001b[1;32m\"C:\\Users\\86199\\AppData\\Local\\Temp\\ipykernel_2768\\3008639315.py\"\u001b[1;36m, line \u001b[1;32m1\u001b[0m\n\u001b[1;33m    result=lambda(x, y: x*y)\u001b[0m\n\u001b[1;37m                 ^\u001b[0m\n\u001b[1;31mSyntaxError\u001b[0m\u001b[1;31m:\u001b[0m invalid syntax\n"
     ]
    }
   ],
   "source": [
    "result=lambda(x, y: x*y)\n",
    "print(list(result))"
   ]
  },
  {
   "cell_type": "code",
   "execution_count": 31,
   "id": "b0a75574",
   "metadata": {},
   "outputs": [
    {
     "data": {
      "text/plain": [
       "[]"
      ]
     },
     "execution_count": 31,
     "metadata": {},
     "output_type": "execute_result"
    }
   ],
   "source": [
    "list(result)"
   ]
  },
  {
   "cell_type": "code",
   "execution_count": 32,
   "id": "7410c59f",
   "metadata": {},
   "outputs": [
    {
     "data": {
      "text/plain": [
       "<map at 0x221c0d386a0>"
      ]
     },
     "execution_count": 32,
     "metadata": {},
     "output_type": "execute_result"
    }
   ],
   "source": [
    "result"
   ]
  },
  {
   "cell_type": "code",
   "execution_count": 34,
   "id": "f50efaa1",
   "metadata": {},
   "outputs": [
    {
     "name": "stdout",
     "output_type": "stream",
     "text": [
      "[]\n"
     ]
    }
   ],
   "source": [
    "a = [1, 4, 6]\n",
    "b = [2, 3, 5, 7, 8]\n",
    "print(list(result))"
   ]
  },
  {
   "cell_type": "code",
   "execution_count": null,
   "id": "a1b88580",
   "metadata": {},
   "outputs": [],
   "source": []
  }
 ],
 "metadata": {
  "kernelspec": {
   "display_name": "Python 3 (ipykernel)",
   "language": "python",
   "name": "python3"
  },
  "language_info": {
   "codemirror_mode": {
    "name": "ipython",
    "version": 3
   },
   "file_extension": ".py",
   "mimetype": "text/x-python",
   "name": "python",
   "nbconvert_exporter": "python",
   "pygments_lexer": "ipython3",
   "version": "3.9.13"
  }
 },
 "nbformat": 4,
 "nbformat_minor": 5
}
