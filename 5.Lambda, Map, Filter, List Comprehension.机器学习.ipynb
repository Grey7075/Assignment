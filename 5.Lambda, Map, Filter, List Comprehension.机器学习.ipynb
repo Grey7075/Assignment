{
 "cells": [
  {
   "cell_type": "code",
   "execution_count": 11,
   "id": "30df0727",
   "metadata": {},
   "outputs": [],
   "source": [
    "def add(num1,num2):\n",
    "    return num1+num2"
   ]
  },
  {
   "cell_type": "code",
   "execution_count": 12,
   "id": "9348b932",
   "metadata": {},
   "outputs": [
    {
     "data": {
      "text/plain": [
       "8"
      ]
     },
     "execution_count": 12,
     "metadata": {},
     "output_type": "execute_result"
    }
   ],
   "source": [
    "add(3,5)"
   ]
  },
  {
   "cell_type": "code",
   "execution_count": 13,
   "id": "79f48b1d",
   "metadata": {},
   "outputs": [
    {
     "data": {
      "text/plain": [
       "<function __main__.<lambda>(num1, num2)>"
      ]
     },
     "execution_count": 13,
     "metadata": {},
     "output_type": "execute_result"
    }
   ],
   "source": [
    "lambda num1,num2:num1+num2"
   ]
  },
  {
   "cell_type": "code",
   "execution_count": 14,
   "id": "b60dc589",
   "metadata": {},
   "outputs": [],
   "source": [
    "abplus=lambda num1,num2:num1+num2"
   ]
  },
  {
   "cell_type": "code",
   "execution_count": 16,
   "id": "60b519f7",
   "metadata": {},
   "outputs": [
    {
     "data": {
      "text/plain": [
       "4"
      ]
     },
     "execution_count": 16,
     "metadata": {},
     "output_type": "execute_result"
    }
   ],
   "source": [
    "abplus(1,3)"
   ]
  },
  {
   "cell_type": "code",
   "execution_count": 39,
   "id": "2a1222fa",
   "metadata": {},
   "outputs": [],
   "source": [
    "def even(num):\n",
    "    if num%2==0:\n",
    "        return True\n",
    "    else:\n",
    "        return False"
   ]
  },
  {
   "cell_type": "code",
   "execution_count": 18,
   "id": "ed09213c",
   "metadata": {},
   "outputs": [
    {
     "data": {
      "text/plain": [
       "[1, 3, 5, 7, 23, 33]"
      ]
     },
     "execution_count": 18,
     "metadata": {},
     "output_type": "execute_result"
    }
   ],
   "source": [
    "#描述 Python filter () 函数用于过滤序列，过滤掉不符合条件的元素，返回由符合条件元素组成的新列表。 该接收两个参数，第一个为函数，第二个为序列，序列的每个元素作为参数传递给函数进行判，然后返回 True 或 False，最后将返回 True 的元素放到新列表中。\n",
    "list(filter(even,lst))"
   ]
  },
  {
   "cell_type": "code",
   "execution_count": 19,
   "id": "7e709038",
   "metadata": {},
   "outputs": [],
   "source": [
    "even1=lambda num:num%2==0\n"
   ]
  },
  {
   "cell_type": "code",
   "execution_count": 22,
   "id": "7b4c9ffb",
   "metadata": {},
   "outputs": [
    {
     "data": {
      "text/plain": [
       "True"
      ]
     },
     "execution_count": 22,
     "metadata": {},
     "output_type": "execute_result"
    }
   ],
   "source": [
    "even1(6)"
   ]
  },
  {
   "cell_type": "code",
   "execution_count": 24,
   "id": "8df9bae8",
   "metadata": {},
   "outputs": [],
   "source": [
    "def add(a,b,c):\n",
    "    return a+b+c"
   ]
  },
  {
   "cell_type": "code",
   "execution_count": 25,
   "id": "4661dc38",
   "metadata": {},
   "outputs": [
    {
     "data": {
      "text/plain": [
       "6"
      ]
     },
     "execution_count": 25,
     "metadata": {},
     "output_type": "execute_result"
    }
   ],
   "source": [
    "add(1,2,3)"
   ]
  },
  {
   "cell_type": "code",
   "execution_count": 26,
   "id": "bd03ad78",
   "metadata": {},
   "outputs": [],
   "source": [
    "add1=lambda a,b,c:a+b+c"
   ]
  },
  {
   "cell_type": "code",
   "execution_count": 28,
   "id": "755b1bef",
   "metadata": {},
   "outputs": [
    {
     "data": {
      "text/plain": [
       "6"
      ]
     },
     "execution_count": 28,
     "metadata": {},
     "output_type": "execute_result"
    }
   ],
   "source": [
    "add1(1,2,3)"
   ]
  },
  {
   "cell_type": "code",
   "execution_count": 30,
   "id": "367fb46a",
   "metadata": {},
   "outputs": [],
   "source": [
    "def even_odd(num):\n",
    "    if num%2==0:\n",
    "        return \"the number {} is even\".format(num)\n",
    "    else:\n",
    "        return \"the number {} is odd\".format(num)"
   ]
  },
  {
   "cell_type": "code",
   "execution_count": 31,
   "id": "14e9424a",
   "metadata": {},
   "outputs": [
    {
     "data": {
      "text/plain": [
       "'the number 23 is odd'"
      ]
     },
     "execution_count": 31,
     "metadata": {},
     "output_type": "execute_result"
    }
   ],
   "source": [
    "even_odd(23)\n"
   ]
  },
  {
   "cell_type": "code",
   "execution_count": 32,
   "id": "9f17edc9",
   "metadata": {},
   "outputs": [],
   "source": [
    "lst=[1,2,3,4,5,6,7,8,22,23,33]"
   ]
  },
  {
   "cell_type": "code",
   "execution_count": 34,
   "id": "f511aaaf",
   "metadata": {},
   "outputs": [
    {
     "name": "stdout",
     "output_type": "stream",
     "text": [
      "the number 1 is odd\n",
      "the number 2 is even\n",
      "the number 3 is odd\n",
      "the number 4 is even\n",
      "the number 5 is odd\n",
      "the number 6 is even\n",
      "the number 7 is odd\n",
      "the number 8 is even\n",
      "the number 22 is even\n",
      "the number 23 is odd\n",
      "the number 33 is odd\n"
     ]
    }
   ],
   "source": [
    "for i in lst:\n",
    "    if i%2==0:\n",
    "        print(\"the number {} is even\".format(i))\n",
    "    else:\n",
    "        print(\"the number {} is odd\".format(i))"
   ]
  },
  {
   "cell_type": "code",
   "execution_count": 35,
   "id": "e6281876",
   "metadata": {},
   "outputs": [
    {
     "name": "stdout",
     "output_type": "stream",
     "text": [
      "the number 1 is odd\n",
      "the number 2 is even\n",
      "the number 3 is odd\n",
      "the number 4 is even\n",
      "the number 5 is odd\n",
      "the number 6 is even\n",
      "the number 7 is odd\n",
      "the number 8 is even\n",
      "the number 22 is even\n",
      "the number 23 is odd\n",
      "the number 33 is odd\n"
     ]
    }
   ],
   "source": [
    "for i in lst:print(even_odd(i))\n",
    "    "
   ]
  },
  {
   "cell_type": "code",
   "execution_count": 36,
   "id": "b496829f",
   "metadata": {},
   "outputs": [
    {
     "data": {
      "text/plain": [
       "<map at 0x17115bd78e0>"
      ]
     },
     "execution_count": 36,
     "metadata": {},
     "output_type": "execute_result"
    }
   ],
   "source": [
    "map(even_odd,lst)"
   ]
  },
  {
   "cell_type": "code",
   "execution_count": 37,
   "id": "65c3ae76",
   "metadata": {},
   "outputs": [
    {
     "data": {
      "text/plain": [
       "['the number 1 is odd',\n",
       " 'the number 2 is even',\n",
       " 'the number 3 is odd',\n",
       " 'the number 4 is even',\n",
       " 'the number 5 is odd',\n",
       " 'the number 6 is even',\n",
       " 'the number 7 is odd',\n",
       " 'the number 8 is even',\n",
       " 'the number 22 is even',\n",
       " 'the number 23 is odd',\n",
       " 'the number 33 is odd']"
      ]
     },
     "execution_count": 37,
     "metadata": {},
     "output_type": "execute_result"
    }
   ],
   "source": [
    "list(map(even_odd,lst))"
   ]
  },
  {
   "cell_type": "code",
   "execution_count": 40,
   "id": "bec2e9c5",
   "metadata": {},
   "outputs": [
    {
     "data": {
      "text/plain": [
       "[2, 4, 6, 8, 22]"
      ]
     },
     "execution_count": 40,
     "metadata": {},
     "output_type": "execute_result"
    }
   ],
   "source": [
    "list(filter(even,lst))"
   ]
  },
  {
   "cell_type": "code",
   "execution_count": 41,
   "id": "5a15c8de",
   "metadata": {},
   "outputs": [
    {
     "data": {
      "text/plain": [
       "[False, True, False, True, False, True, False, True, True, False, False]"
      ]
     },
     "execution_count": 41,
     "metadata": {},
     "output_type": "execute_result"
    }
   ],
   "source": [
    "list(map(even,lst))"
   ]
  },
  {
   "cell_type": "code",
   "execution_count": 42,
   "id": "a125bb32",
   "metadata": {},
   "outputs": [
    {
     "data": {
      "text/plain": [
       "[False, True, False, True, False, True, False, True, True, False, False]"
      ]
     },
     "execution_count": 42,
     "metadata": {},
     "output_type": "execute_result"
    }
   ],
   "source": [
    "list(map(lambda num:num%2==0,lst))"
   ]
  },
  {
   "cell_type": "code",
   "execution_count": 43,
   "id": "4a417306",
   "metadata": {},
   "outputs": [
    {
     "data": {
      "text/plain": [
       "['h', 'u', 'm', 'a', 'n']"
      ]
     },
     "execution_count": 43,
     "metadata": {},
     "output_type": "execute_result"
    }
   ],
   "source": [
    "list(map(lambda x:x, 'human'))"
   ]
  },
  {
   "cell_type": "code",
   "execution_count": 45,
   "id": "bb3cbad4",
   "metadata": {},
   "outputs": [
    {
     "name": "stdout",
     "output_type": "stream",
     "text": [
      "['h', 'u', 'm', 'a', 'n']\n"
     ]
    }
   ],
   "source": [
    "letters = list(map(lambda x:x, 'human'))\n",
    "print(letters)"
   ]
  },
  {
   "cell_type": "code",
   "execution_count": 49,
   "id": "ca812ed2",
   "metadata": {},
   "outputs": [],
   "source": [
    "#List /lst=[1,2,3,4,5,6,7,8,22,23,33]\n",
    "lst1=[]\n",
    "def lst2x(lst):\n",
    "    for i in lst:\n",
    "        lst1.append(i*2)\n",
    "    return lst1"
   ]
  },
  {
   "cell_type": "code",
   "execution_count": 50,
   "id": "ad39fb9d",
   "metadata": {},
   "outputs": [
    {
     "data": {
      "text/plain": [
       "[2, 4, 6, 8, 10, 12, 14, 16, 44, 46, 66]"
      ]
     },
     "execution_count": 50,
     "metadata": {},
     "output_type": "execute_result"
    }
   ],
   "source": [
    "lst2x(lst)"
   ]
  },
  {
   "cell_type": "code",
   "execution_count": 52,
   "id": "91f1906f",
   "metadata": {},
   "outputs": [
    {
     "data": {
      "text/plain": [
       "[2, 4, 6, 8, 10, 12, 14, 16, 44, 46, 66]"
      ]
     },
     "execution_count": 52,
     "metadata": {},
     "output_type": "execute_result"
    }
   ],
   "source": [
    "lst1"
   ]
  },
  {
   "cell_type": "code",
   "execution_count": 53,
   "id": "943503bf",
   "metadata": {},
   "outputs": [
    {
     "data": {
      "text/plain": [
       "[2, 4, 6, 8, 10, 12, 14, 16, 44, 46, 66]"
      ]
     },
     "execution_count": 53,
     "metadata": {},
     "output_type": "execute_result"
    }
   ],
   "source": [
    "#List Comprehension\n",
    "[i*2 for i in lst]"
   ]
  },
  {
   "cell_type": "code",
   "execution_count": 54,
   "id": "29e8bc83",
   "metadata": {},
   "outputs": [],
   "source": [
    "#List \n",
    "lst1=[]\n",
    "def lst2x(lst):\n",
    "    for i in lst:\n",
    "        if i%2==0:\n",
    "            lst1.append(i*2)#append添加到lst1中\n",
    "    return lst1"
   ]
  },
  {
   "cell_type": "code",
   "execution_count": 55,
   "id": "88fd08cd",
   "metadata": {},
   "outputs": [
    {
     "data": {
      "text/plain": [
       "[4, 8, 12, 16, 44]"
      ]
     },
     "execution_count": 55,
     "metadata": {},
     "output_type": "execute_result"
    }
   ],
   "source": [
    "lst2x(lst)"
   ]
  },
  {
   "cell_type": "code",
   "execution_count": 56,
   "id": "14b359cf",
   "metadata": {},
   "outputs": [
    {
     "data": {
      "text/plain": [
       "[4, 8, 12, 16, 44]"
      ]
     },
     "execution_count": 56,
     "metadata": {},
     "output_type": "execute_result"
    }
   ],
   "source": [
    "#List Comprehension\n",
    "[i*2 for i in lst if i%2==0]"
   ]
  },
  {
   "cell_type": "code",
   "execution_count": null,
   "id": "2e0d2bd9",
   "metadata": {},
   "outputs": [],
   "source": [
    "#out_list = [out_express for out_express in input_list if out_express_condition] 列表推导式"
   ]
  }
 ],
 "metadata": {
  "kernelspec": {
   "display_name": "Python 3 (ipykernel)",
   "language": "python",
   "name": "python3"
  },
  "language_info": {
   "codemirror_mode": {
    "name": "ipython",
    "version": 3
   },
   "file_extension": ".py",
   "mimetype": "text/x-python",
   "name": "python",
   "nbconvert_exporter": "python",
   "pygments_lexer": "ipython3",
   "version": "3.9.13"
  }
 },
 "nbformat": 4,
 "nbformat_minor": 5
}
