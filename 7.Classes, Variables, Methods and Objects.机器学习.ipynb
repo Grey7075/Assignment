{
 "cells": [
  {
   "cell_type": "code",
   "execution_count": 1,
   "id": "8fbf7ea4",
   "metadata": {},
   "outputs": [],
   "source": [
    "class Student:\n",
    "    pass\n",
    "#class Circle(object):  # 创建Circle类，Circle为类名\n",
    "   #pass  # 此处可添加属性和方法"
   ]
  },
  {
   "cell_type": "code",
   "execution_count": 2,
   "id": "851dbe7d",
   "metadata": {},
   "outputs": [],
   "source": [
    "小明=Student()"
   ]
  },
  {
   "cell_type": "code",
   "execution_count": 3,
   "id": "103de1e2",
   "metadata": {},
   "outputs": [
    {
     "data": {
      "text/plain": [
       "<__main__.Student at 0x1eb0526f6d0>"
      ]
     },
     "execution_count": 3,
     "metadata": {},
     "output_type": "execute_result"
    }
   ],
   "source": [
    "小明"
   ]
  },
  {
   "cell_type": "code",
   "execution_count": 4,
   "id": "bbce2381",
   "metadata": {},
   "outputs": [
    {
     "data": {
      "text/plain": [
       "<__main__.Student at 0x1eb0526f100>"
      ]
     },
     "execution_count": 4,
     "metadata": {},
     "output_type": "execute_result"
    }
   ],
   "source": [
    "Student()"
   ]
  },
  {
   "cell_type": "code",
   "execution_count": 5,
   "id": "c0c22c69",
   "metadata": {},
   "outputs": [],
   "source": [
    "小明.age=10\n",
    "小明.grade=4"
   ]
  },
  {
   "cell_type": "code",
   "execution_count": 6,
   "id": "d2f13c5a",
   "metadata": {},
   "outputs": [
    {
     "name": "stdout",
     "output_type": "stream",
     "text": [
      "10\n"
     ]
    }
   ],
   "source": [
    "print(小明.age)"
   ]
  },
  {
   "cell_type": "code",
   "execution_count": 7,
   "id": "1a5d3c0f",
   "metadata": {},
   "outputs": [
    {
     "ename": "NameError",
     "evalue": "name '小刚' is not defined",
     "output_type": "error",
     "traceback": [
      "\u001b[1;31m---------------------------------------------------------------------------\u001b[0m",
      "\u001b[1;31mNameError\u001b[0m                                 Traceback (most recent call last)",
      "\u001b[1;32m~\\AppData\\Local\\Temp\\ipykernel_9232\\2577785565.py\u001b[0m in \u001b[0;36m<module>\u001b[1;34m\u001b[0m\n\u001b[1;32m----> 1\u001b[1;33m \u001b[0m小刚\u001b[0m\u001b[1;33m.\u001b[0m\u001b[0mage\u001b[0m\u001b[1;33m=\u001b[0m\u001b[1;36m8\u001b[0m\u001b[1;33m\u001b[0m\u001b[1;33m\u001b[0m\u001b[0m\n\u001b[0m\u001b[0;32m      2\u001b[0m \u001b[0m小刚\u001b[0m\u001b[1;33m.\u001b[0m\u001b[0mgrade\u001b[0m\u001b[1;33m=\u001b[0m\u001b[1;36m2\u001b[0m\u001b[1;33m\u001b[0m\u001b[1;33m\u001b[0m\u001b[0m\n\u001b[0;32m      3\u001b[0m \u001b[0m小刚\u001b[0m\u001b[1;33m.\u001b[0m\u001b[0mspecial\u001b[0m\u001b[1;33m=\u001b[0m\u001b[1;34m\"football\"\u001b[0m\u001b[1;33m\u001b[0m\u001b[1;33m\u001b[0m\u001b[0m\n",
      "\u001b[1;31mNameError\u001b[0m: name '小刚' is not defined"
     ]
    }
   ],
   "source": [
    "小刚.age=8\n",
    "小刚.grade=2\n",
    "小刚.special=\"football\""
   ]
  },
  {
   "cell_type": "code",
   "execution_count": 8,
   "id": "beed6249",
   "metadata": {},
   "outputs": [],
   "source": [
    "小刚=Student()"
   ]
  },
  {
   "cell_type": "code",
   "execution_count": 9,
   "id": "e87f7474",
   "metadata": {},
   "outputs": [],
   "source": [
    "小刚.age=8\n",
    "小刚.grade=2\n",
    "小刚.special=\"football\"\n"
   ]
  },
  {
   "cell_type": "code",
   "execution_count": 10,
   "id": "7ebcafcc",
   "metadata": {},
   "outputs": [
    {
     "name": "stdout",
     "output_type": "stream",
     "text": [
      "8\n"
     ]
    }
   ],
   "source": [
    "print(小刚.age)"
   ]
  },
  {
   "cell_type": "code",
   "execution_count": 11,
   "id": "f2fe2011",
   "metadata": {},
   "outputs": [
    {
     "data": {
      "text/plain": [
       "['__class__',\n",
       " '__delattr__',\n",
       " '__dict__',\n",
       " '__dir__',\n",
       " '__doc__',\n",
       " '__eq__',\n",
       " '__format__',\n",
       " '__ge__',\n",
       " '__getattribute__',\n",
       " '__gt__',\n",
       " '__hash__',\n",
       " '__init__',\n",
       " '__init_subclass__',\n",
       " '__le__',\n",
       " '__lt__',\n",
       " '__module__',\n",
       " '__ne__',\n",
       " '__new__',\n",
       " '__reduce__',\n",
       " '__reduce_ex__',\n",
       " '__repr__',\n",
       " '__setattr__',\n",
       " '__sizeof__',\n",
       " '__str__',\n",
       " '__subclasshook__',\n",
       " '__weakref__',\n",
       " 'age',\n",
       " 'grade']"
      ]
     },
     "execution_count": 11,
     "metadata": {},
     "output_type": "execute_result"
    }
   ],
   "source": [
    "dir(小明)"
   ]
  },
  {
   "cell_type": "code",
   "execution_count": 12,
   "id": "a394d7f2",
   "metadata": {},
   "outputs": [],
   "source": [
    "class Student:\n",
    "    def __init__():\n",
    "        print('Hi')"
   ]
  },
  {
   "cell_type": "code",
   "execution_count": 13,
   "id": "a8e0f0b5",
   "metadata": {},
   "outputs": [
    {
     "ename": "TypeError",
     "evalue": "__init__() takes 0 positional arguments but 1 was given",
     "output_type": "error",
     "traceback": [
      "\u001b[1;31m---------------------------------------------------------------------------\u001b[0m",
      "\u001b[1;31mTypeError\u001b[0m                                 Traceback (most recent call last)",
      "\u001b[1;32m~\\AppData\\Local\\Temp\\ipykernel_9232\\2241623740.py\u001b[0m in \u001b[0;36m<module>\u001b[1;34m\u001b[0m\n\u001b[1;32m----> 1\u001b[1;33m \u001b[0mStudent\u001b[0m\u001b[1;33m(\u001b[0m\u001b[1;33m)\u001b[0m\u001b[1;33m\u001b[0m\u001b[1;33m\u001b[0m\u001b[0m\n\u001b[0m",
      "\u001b[1;31mTypeError\u001b[0m: __init__() takes 0 positional arguments but 1 was given"
     ]
    }
   ],
   "source": [
    "Student()"
   ]
  },
  {
   "cell_type": "code",
   "execution_count": 18,
   "id": "51ca9b46",
   "metadata": {},
   "outputs": [],
   "source": [
    "class Student:\n",
    "    def __init__(self):\n",
    "        pass\n",
    "        print('Hi there')"
   ]
  },
  {
   "cell_type": "markdown",
   "id": "fcebb13c",
   "metadata": {},
   "source": [
    "### __init__方法必须接受至少一个参数即self，Python中，self是指向该对象本身的一个引用，通过在类的内部使用self变量，类中的方法可以访问自己的成员变量，简单来说，self.varname的意义为”访问该对象的varname属性“\n",
    "\n",
    "#当然，__init__()中可以封装任意的程序逻辑，这是允许的，__init__()方法还接受任意多个其他参数，允许在初始化时提供一些数据，例如，对于刚刚的worker类，可以这样写："
   ]
  },
  {
   "cell_type": "code",
   "execution_count": 19,
   "id": "c000709a",
   "metadata": {},
   "outputs": [
    {
     "name": "stdout",
     "output_type": "stream",
     "text": [
      "Hi there\n"
     ]
    }
   ],
   "source": [
    "a=Student()"
   ]
  },
  {
   "cell_type": "code",
   "execution_count": 23,
   "id": "36c75744",
   "metadata": {},
   "outputs": [],
   "source": [
    "class Student:\n",
    "    def __init__(self,name,grade):\n",
    "        self.names=name\n",
    "        self.grades=grade\n",
    "        print('Hi there')"
   ]
  },
  {
   "cell_type": "code",
   "execution_count": 24,
   "id": "7ca52c8b",
   "metadata": {},
   "outputs": [
    {
     "ename": "TypeError",
     "evalue": "__init__() missing 2 required positional arguments: 'name' and 'grade'",
     "output_type": "error",
     "traceback": [
      "\u001b[1;31m---------------------------------------------------------------------------\u001b[0m",
      "\u001b[1;31mTypeError\u001b[0m                                 Traceback (most recent call last)",
      "\u001b[1;32m~\\AppData\\Local\\Temp\\ipykernel_9232\\588390241.py\u001b[0m in \u001b[0;36m<module>\u001b[1;34m\u001b[0m\n\u001b[1;32m----> 1\u001b[1;33m \u001b[0mstudent1\u001b[0m\u001b[1;33m=\u001b[0m\u001b[0mStudent\u001b[0m\u001b[1;33m(\u001b[0m\u001b[1;33m)\u001b[0m\u001b[1;33m\u001b[0m\u001b[1;33m\u001b[0m\u001b[0m\n\u001b[0m",
      "\u001b[1;31mTypeError\u001b[0m: __init__() missing 2 required positional arguments: 'name' and 'grade'"
     ]
    }
   ],
   "source": [
    "student1=Student()"
   ]
  },
  {
   "cell_type": "code",
   "execution_count": 29,
   "id": "67ec63b7",
   "metadata": {},
   "outputs": [
    {
     "name": "stdout",
     "output_type": "stream",
     "text": [
      "Hi there\n"
     ]
    }
   ],
   "source": [
    "student1=Student('Andy',5)"
   ]
  },
  {
   "cell_type": "code",
   "execution_count": 27,
   "id": "ee760330",
   "metadata": {},
   "outputs": [
    {
     "name": "stdout",
     "output_type": "stream",
     "text": [
      "Andy\n",
      "5\n"
     ]
    }
   ],
   "source": [
    "print(student1.names)\n",
    "print(student1.grades)"
   ]
  },
  {
   "cell_type": "code",
   "execution_count": 30,
   "id": "cb4ab5b8",
   "metadata": {},
   "outputs": [],
   "source": [
    "class Car:\n",
    "    def __init__(self,window,door,engine):\n",
    "        self.x=window\n",
    "        self.y=door\n",
    "        self.z=engine"
   ]
  },
  {
   "cell_type": "code",
   "execution_count": 31,
   "id": "df667036",
   "metadata": {},
   "outputs": [],
   "source": [
    "car1=Car(4,5,'4 cylinder')"
   ]
  },
  {
   "cell_type": "code",
   "execution_count": 32,
   "id": "5b4e2810",
   "metadata": {},
   "outputs": [
    {
     "name": "stdout",
     "output_type": "stream",
     "text": [
      "4\n",
      "5\n",
      "4 cylinder\n"
     ]
    }
   ],
   "source": [
    "print(car1.x)\n",
    "print(car1.y)\n",
    "print(car1.z)"
   ]
  },
  {
   "cell_type": "code",
   "execution_count": 40,
   "id": "7b474d46",
   "metadata": {},
   "outputs": [],
   "source": [
    "class Car:\n",
    "    def __init__(self,window,door,engine):\n",
    "        self.window=window\n",
    "        self.door=door\n",
    "        self.engine=engine"
   ]
  },
  {
   "cell_type": "code",
   "execution_count": 41,
   "id": "77b73751",
   "metadata": {},
   "outputs": [],
   "source": [
    "car2=Car(2,3,'6 cylinder')"
   ]
  },
  {
   "cell_type": "code",
   "execution_count": 42,
   "id": "a8169f71",
   "metadata": {},
   "outputs": [
    {
     "name": "stdout",
     "output_type": "stream",
     "text": [
      "2\n",
      "3\n",
      "6 cylinder\n"
     ]
    }
   ],
   "source": [
    "print(car2.window)\n",
    "print(car2.door)\n",
    "print(car2.engine)"
   ]
  },
  {
   "cell_type": "code",
   "execution_count": 52,
   "id": "a9e631bb",
   "metadata": {},
   "outputs": [],
   "source": [
    "class Car:\n",
    "    def __init__(self,x,y,z):\n",
    "        self.window=x\n",
    "        self.door=y\n",
    "        self.engine=z"
   ]
  },
  {
   "cell_type": "code",
   "execution_count": 53,
   "id": "36e23da8",
   "metadata": {},
   "outputs": [],
   "source": [
    "car2=Car(4,4,'8 cylinder')"
   ]
  },
  {
   "cell_type": "code",
   "execution_count": 54,
   "id": "0e13c156",
   "metadata": {},
   "outputs": [
    {
     "name": "stdout",
     "output_type": "stream",
     "text": [
      "4\n",
      "4\n",
      "8 cylinder\n"
     ]
    }
   ],
   "source": [
    "print(car2.window)\n",
    "print(car2.door)\n",
    "print(car2.engine)"
   ]
  },
  {
   "cell_type": "code",
   "execution_count": 67,
   "id": "847c3e7c",
   "metadata": {},
   "outputs": [],
   "source": [
    "class Car:\n",
    "    def __init__(self,window,door,engine):\n",
    "        self.window=window\n",
    "        self.door=door\n",
    "        self.engine=engine\n",
    "    def info(self):\n",
    "        return \"this is a {} car\".format(self.engine)"
   ]
  },
  {
   "cell_type": "code",
   "execution_count": 74,
   "id": "0210b195",
   "metadata": {},
   "outputs": [],
   "source": [
    "a=car2.window\n",
    "b=car2.door\n",
    "c=car2.engine"
   ]
  },
  {
   "cell_type": "code",
   "execution_count": 75,
   "id": "003558e9",
   "metadata": {},
   "outputs": [
    {
     "ename": "AttributeError",
     "evalue": "'Car' object has no attribute 'info'",
     "output_type": "error",
     "traceback": [
      "\u001b[1;31m---------------------------------------------------------------------------\u001b[0m",
      "\u001b[1;31mAttributeError\u001b[0m                            Traceback (most recent call last)",
      "\u001b[1;32m~\\AppData\\Local\\Temp\\ipykernel_9232\\2154219209.py\u001b[0m in \u001b[0;36m<module>\u001b[1;34m\u001b[0m\n\u001b[1;32m----> 1\u001b[1;33m \u001b[0mcar2\u001b[0m\u001b[1;33m.\u001b[0m\u001b[0minfo\u001b[0m\u001b[1;33m(\u001b[0m\u001b[1;33m)\u001b[0m\u001b[1;33m\u001b[0m\u001b[1;33m\u001b[0m\u001b[0m\n\u001b[0m",
      "\u001b[1;31mAttributeError\u001b[0m: 'Car' object has no attribute 'info'"
     ]
    }
   ],
   "source": [
    "car2.info()"
   ]
  },
  {
   "cell_type": "code",
   "execution_count": 89,
   "id": "5c1fabaa",
   "metadata": {},
   "outputs": [],
   "source": [
    "class BuildRobot():\n",
    "    def __init__(self,armcount,headcount):         #两者都由def定义，稍微粗糙一点的理解就是，在class里面的function叫method\n",
    "        self.armcount1 = armcount                 #instance搭建\n",
    "        self.headcount2 = headcount\n",
    "    def info(self,color):\n",
    "        print(\"paint arm:\",color)\n",
    "#这个paintarm，就是一个method。还是一样，现在这个class没有生产，因此这个method也没有任何实际的产品出来。我们只能先生产出一个instance来"
   ]
  },
  {
   "cell_type": "code",
   "execution_count": 90,
   "id": "6fe484d7",
   "metadata": {},
   "outputs": [],
   "source": [
    "colorful_robot = BuildRobot(2,1)"
   ]
  },
  {
   "cell_type": "code",
   "execution_count": 91,
   "id": "214e2a24",
   "metadata": {},
   "outputs": [
    {
     "name": "stdout",
     "output_type": "stream",
     "text": [
      "paint arm: red\n"
     ]
    }
   ],
   "source": [
    "colorful_robot.info('red')"
   ]
  },
  {
   "cell_type": "markdown",
   "id": "3655bcac",
   "metadata": {},
   "source": [
    "### 如果没有先造一个机器人，这个车间就没有办法给胳膊上色，因此要上色，就必须先造一个机器人出来。所以，method是依赖于instance的。这个车间只能给这个工厂产出的robot的胳膊上色，你从别的工厂拿一个车过来让他上色，他是不干的。因此，method是依赖于class的。只有这个class创建的instance，才能call这个method。"
   ]
  },
  {
   "cell_type": "markdown",
   "id": "6fc0e879",
   "metadata": {},
   "source": [
    "## https://blog.csdn.net/weixin_39634898/article/details/110658586"
   ]
  },
  {
   "cell_type": "markdown",
   "id": "b8fa0c42",
   "metadata": {},
   "source": [
    "#### self是在为class编写instance method的时候，放在变量名第一个位子的占位词"
   ]
  },
  {
   "cell_type": "code",
   "execution_count": null,
   "id": "8ce5a469",
   "metadata": {},
   "outputs": [],
   "source": []
  }
 ],
 "metadata": {
  "kernelspec": {
   "display_name": "Python 3 (ipykernel)",
   "language": "python",
   "name": "python3"
  },
  "language_info": {
   "codemirror_mode": {
    "name": "ipython",
    "version": 3
   },
   "file_extension": ".py",
   "mimetype": "text/x-python",
   "name": "python",
   "nbconvert_exporter": "python",
   "pygments_lexer": "ipython3",
   "version": "3.9.13"
  }
 },
 "nbformat": 4,
 "nbformat_minor": 5
}
